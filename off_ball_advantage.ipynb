{
 "cells": [
  {
   "cell_type": "code",
   "execution_count": 146,
   "id": "3a91f037",
   "metadata": {},
   "outputs": [],
   "source": [
    "import pandas as pd\n",
    "import numpy as np\n",
    "import math\n",
    "import matplotlib.pyplot as plt \n",
    "import seaborn as sns \n",
    "import matplotlib.colors\n",
    "\n",
    "import time\n",
    "from matplotlib.colors import LinearSegmentedColormap\n",
    "pd.set_option('display.max_columns', None)\n"
   ]
  },
  {
   "cell_type": "code",
   "execution_count": 147,
   "id": "c5cd06d5",
   "metadata": {},
   "outputs": [],
   "source": [
    "from nba_api.stats.static import teams\n",
    "\n",
    "from nba_api.stats.endpoints import leaguedashplayerptshot, leaguedashplayerstats, synergyplaytypes"
   ]
  },
  {
   "cell_type": "markdown",
   "id": "a798b206",
   "metadata": {},
   "source": [
    "#### Get Touch Time DF"
   ]
  },
  {
   "cell_type": "code",
   "execution_count": 148,
   "id": "0e96f8fe",
   "metadata": {},
   "outputs": [],
   "source": [
    "def get_touch_time_shots(season, touch_range):\n",
    "    df = leaguedashplayerptshot.LeagueDashPlayerPtShot(season = season, touch_time_range_nullable = touch_range).get_data_frames()[0]\n",
    "    \n",
    "    \n",
    "    df = df[['PLAYER_ID', 'PLAYER_LAST_TEAM_ID' , 'FGM', 'FGA', 'FG2M', 'FG2A', 'FG3M', 'FG3A']]\n",
    "    \n",
    "    shot_type = 'self_created'\n",
    "    if touch_range == \"Touch < 2 Seconds\":\n",
    "        shot_type = 'not_self_created'\n",
    "        \n",
    "    df['shot_type'] = shot_type\n",
    "    return df"
   ]
  },
  {
   "cell_type": "code",
   "execution_count": 149,
   "id": "940e75fb",
   "metadata": {},
   "outputs": [],
   "source": [
    "def get_touch_df(season):\n",
    "\n",
    "    touch_range_list = [\"Touch < 2 Seconds\", \"Touch 2-6 Seconds\",  \"Touch 6+ Seconds\"]\n",
    "\n",
    "    dataframes = []\n",
    "\n",
    "    # Loop through touch_range_list and call the function for each value\n",
    "    for touch_value in touch_range_list:\n",
    "        print(touch_value)\n",
    "        df = get_touch_time_shots(season = season, touch_range = touch_value)\n",
    "        dataframes.append(df)\n",
    "        time.sleep(3)\n",
    "        \n",
    "    touch_df = pd.concat(dataframes, ignore_index=True)\n",
    "\n",
    "    touch_df = touch_df.groupby(['PLAYER_ID', 'PLAYER_LAST_TEAM_ID', 'shot_type']).agg(\n",
    "        {**{col: 'first' for col in touch_df.columns if col not in ['PLAYER_ID', 'PLAYER_NAME', 'PLAYER_LAST_TEAM_ID', 'shot_type']},\n",
    "        **{col: 'sum' for col in touch_df.columns if col not in ['PLAYER_ID', 'PLAYER_NAME', 'PLAYER_LAST_TEAM_ID', 'shot_type']}\n",
    "        }\n",
    "    ).reset_index()\n",
    "\n",
    "    touch_df['efg'] = (touch_df.FGM + touch_df.FG3M*0.5)/touch_df.FGA\n",
    "\n",
    "    suffix_mapping = {'not_self_created': '_not_self_created', 'self_created': '_self_created'}\n",
    "\n",
    "    touch_df = touch_df.pivot_table(index=['PLAYER_ID', 'PLAYER_LAST_TEAM_ID' ], columns='shot_type', \\\n",
    "                                    values=['FGM', 'FGA', 'FG2M', 'FG2A', 'FG3M', 'FG3A', 'efg'], aggfunc='sum')\n",
    "\n",
    "    # Flatten the MultiIndex columns\n",
    "    touch_df.columns = [f'{col[0]}{suffix_mapping[col[1]]}' if col[1] in suffix_mapping else col[0] for col in touch_df.columns]\n",
    "\n",
    "    touch_df = touch_df.reset_index()\n",
    "\n",
    "    return(touch_df)"
   ]
  },
  {
   "cell_type": "markdown",
   "id": "e63dc5ec",
   "metadata": {},
   "source": [
    "#### Get Synergy Data"
   ]
  },
  {
   "cell_type": "code",
   "execution_count": 150,
   "id": "d6719ac0",
   "metadata": {},
   "outputs": [],
   "source": [
    "def get_synergy_stats(season, play_type):\n",
    "\n",
    "    synergy_df = synergyplaytypes.SynergyPlayTypes(season = season, play_type_nullable = play_type, per_mode_simple = 'Totals',\\\n",
    "                                      type_grouping_nullable = 'Offensive', player_or_team_abbreviation = 'P')\\\n",
    "                                .get_data_frames()[0]\n",
    "\n",
    "    synergy_df = synergy_df[['PLAYER_ID', 'POSS', 'PTS']]\n",
    "\n",
    "\n",
    "    synergy_df = synergy_df.groupby(['PLAYER_ID']).sum().reset_index()\n",
    "\n",
    "    synergy_df['PPP'] = synergy_df.PTS/synergy_df.POSS\n",
    "\n",
    "    for column in synergy_df.columns:\n",
    "        # Check if the column name is not PLAYER_ID\n",
    "        if column != 'PLAYER_ID':\n",
    "            # Add the suffix based on the play_type variable\n",
    "            new_column_name = column + \"_\" + play_type\n",
    "            # Rename the column\n",
    "            synergy_df.rename(columns={column: new_column_name}, inplace=True)\n",
    "\n",
    "    return synergy_df"
   ]
  },
  {
   "cell_type": "code",
   "execution_count": 151,
   "id": "2bb8df50",
   "metadata": {},
   "outputs": [],
   "source": [
    "def get_synergy_df(season):\n",
    "\n",
    "    synergy_df = poss_df[['PLAYER_ID']]\n",
    "\n",
    "    play_types = ['Cut', 'Handoff', 'Isolation', 'OffScreen', 'Postup', 'PRBallHandler',\\\n",
    "                'PRRollman', 'Spotup', 'Transition']\n",
    "\n",
    "    for play_type in play_types:\n",
    "        print(play_type)\n",
    "        synergy_df = pd.merge(synergy_df, get_synergy_stats(season, play_type),  how = 'left')\n",
    "        time.sleep(3)\n",
    "\n",
    "    return(synergy_df)\n",
    "    "
   ]
  },
  {
   "cell_type": "markdown",
   "id": "5a1d9497",
   "metadata": {},
   "source": [
    "### Pull Data & Cleanse"
   ]
  },
  {
   "cell_type": "code",
   "execution_count": 152,
   "id": "e36f6576",
   "metadata": {},
   "outputs": [],
   "source": [
    "season = '2024-25'"
   ]
  },
  {
   "cell_type": "markdown",
   "id": "0a177a59",
   "metadata": {},
   "source": [
    "##### Pull Possession Data"
   ]
  },
  {
   "cell_type": "code",
   "execution_count": 153,
   "id": "445db960",
   "metadata": {},
   "outputs": [],
   "source": [
    "poss_df = leaguedashplayerstats.LeagueDashPlayerStats(season=season, \\\n",
    "                                                  measure_type_detailed_defense='Advanced').get_data_frames()[0]\n",
    "\n",
    "\n",
    "\n",
    "poss_df = poss_df[['PLAYER_ID', 'PLAYER_NAME', 'POSS', 'GP', 'MIN']]\n",
    "\n",
    "poss_df = poss_df.groupby(['PLAYER_ID', 'PLAYER_NAME']).sum().reset_index()"
   ]
  },
  {
   "cell_type": "markdown",
   "id": "c359b9a7",
   "metadata": {},
   "source": [
    "##### Pull Stats Data"
   ]
  },
  {
   "cell_type": "code",
   "execution_count": 154,
   "id": "98c6397b",
   "metadata": {},
   "outputs": [
    {
     "name": "stdout",
     "output_type": "stream",
     "text": [
      "\n",
      "Pulling Touch Time Data\n",
      "Touch < 2 Seconds\n",
      "Touch 2-6 Seconds\n",
      "Touch 6+ Seconds\n",
      "\n",
      "Pulling Synergy Data\n",
      "Cut\n",
      "Handoff\n",
      "Isolation\n",
      "OffScreen\n",
      "Postup\n",
      "PRBallHandler\n",
      "PRRollman\n",
      "Spotup\n",
      "Transition\n"
     ]
    }
   ],
   "source": [
    "print('\\nPulling Touch Time Data')\n",
    "touch_df = get_touch_df(season)\n",
    "\n",
    "print('\\nPulling Synergy Data')\n",
    "synergy_df = get_synergy_df(season)"
   ]
  },
  {
   "cell_type": "markdown",
   "id": "bd116a1a",
   "metadata": {},
   "source": [
    "##### Data Cleanse & Merge"
   ]
  },
  {
   "cell_type": "code",
   "execution_count": 155,
   "id": "abd10e08",
   "metadata": {},
   "outputs": [],
   "source": [
    "off_ball_df = pd.merge(poss_df, touch_df, on = 'PLAYER_ID')\n",
    "\n",
    "off_ball_df = pd.merge(off_ball_df, synergy_df, on = 'PLAYER_ID')\n",
    "\n",
    "\n",
    "for column in off_ball_df.columns:\n",
    "    if (column.startswith(\"FG\") or column.startswith(\"PTS\") or column.startswith(\"POSS_\")):\n",
    "        off_ball_df[column] = (off_ball_df[column] / off_ball_df['POSS']) * 75\n",
    "        \n",
    "#off_ball_df = off_ball_df[off_ball_df.POSS > 1000]\n",
    "\n",
    "off_ball_df['headshot_url'] = \"https://cdn.nba.com/headshots/nba/latest/1040x760/\" + \\\n",
    "            off_ball_df.PLAYER_ID.astype(str) + \\\n",
    "                    \".png\""
   ]
  },
  {
   "cell_type": "code",
   "execution_count": 156,
   "id": "2c7afb16",
   "metadata": {},
   "outputs": [],
   "source": [
    "team_colors = pd.read_csv('Data/teamColors.csv')\n",
    "team_colors.rename(columns={'TEAM_ID': 'PLAYER_LAST_TEAM_ID', 'Primary Color': 'primary_color'}, inplace=True)\n",
    "team_colors = team_colors[['PLAYER_LAST_TEAM_ID', 'primary_color']]\n",
    "\n",
    "off_ball_df = pd.merge(off_ball_df, team_colors, on = 'PLAYER_LAST_TEAM_ID')"
   ]
  },
  {
   "cell_type": "markdown",
   "id": "9234db57",
   "metadata": {},
   "source": [
    "##### Export Data"
   ]
  },
  {
   "cell_type": "code",
   "execution_count": 157,
   "id": "f85b975a",
   "metadata": {},
   "outputs": [],
   "source": [
    "off_ball_df['season'] = season\n",
    "\n",
    "off_ball_df.to_csv('Data/headshot_plot_obs_' + season + '.csv')"
   ]
  },
  {
   "cell_type": "markdown",
   "id": "927a27b7",
   "metadata": {},
   "source": [
    "### Save Latest Update Time"
   ]
  },
  {
   "cell_type": "code",
   "execution_count": 158,
   "id": "e523e4d9",
   "metadata": {},
   "outputs": [
    {
     "name": "stdout",
     "output_type": "stream",
     "text": [
      "Today's date (2024-12-24) saved in latest_update.txt\n"
     ]
    }
   ],
   "source": [
    "from datetime import date\n",
    "\n",
    "# Get today's date\n",
    "today = date.today()\n",
    "\n",
    "# Convert date to string\n",
    "today_str = today.strftime(\"%Y-%m-%d\")\n",
    "\n",
    "# Define the file name\n",
    "file_name = \"latest_update.txt\"\n",
    "\n",
    "# Save the date as a text file\n",
    "with open(file_name, \"w\") as file:\n",
    "    file.write(today_str)\n",
    "\n",
    "print(f\"Today's date ({today_str}) saved in {file_name}\")"
   ]
  },
  {
   "cell_type": "code",
   "execution_count": null,
   "id": "63c8b9ba",
   "metadata": {},
   "outputs": [],
   "source": []
  }
 ],
 "metadata": {
  "kernelspec": {
   "display_name": "Python 3 (ipykernel)",
   "language": "python",
   "name": "python3"
  },
  "language_info": {
   "codemirror_mode": {
    "name": "ipython",
    "version": 3
   },
   "file_extension": ".py",
   "mimetype": "text/x-python",
   "name": "python",
   "nbconvert_exporter": "python",
   "pygments_lexer": "ipython3",
   "version": "3.12.6"
  }
 },
 "nbformat": 4,
 "nbformat_minor": 5
}
