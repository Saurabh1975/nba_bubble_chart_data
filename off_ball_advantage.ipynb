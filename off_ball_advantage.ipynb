{
 "cells": [
  {
   "cell_type": "code",
   "execution_count": 1,
   "id": "3a91f037",
   "metadata": {},
   "outputs": [
    {
     "name": "stderr",
     "output_type": "stream",
     "text": [
      "C:\\Users\\saurabh.rane\\AppData\\Roaming\\Python\\Python310\\site-packages\\matplotlib\\projections\\__init__.py:63: UserWarning: Unable to import Axes3D. This may be due to multiple versions of Matplotlib being installed (e.g. as a system package and as a pip package). As a result, the 3D projection is not available.\n",
      "  warnings.warn(\"Unable to import Axes3D. This may be due to multiple versions of \"\n"
     ]
    }
   ],
   "source": [
    "import pandas as pd\n",
    "import numpy as np\n",
    "import math\n",
    "import matplotlib.pyplot as plt \n",
    "import seaborn as sns \n",
    "import matplotlib.colors\n",
    "\n",
    "import time\n",
    "from matplotlib.colors import LinearSegmentedColormap\n",
    "pd.set_option('display.max_columns', None)\n"
   ]
  },
  {
   "cell_type": "code",
   "execution_count": 2,
   "id": "c5cd06d5",
   "metadata": {},
   "outputs": [],
   "source": [
    "from nba_api.stats.static import teams\n",
    "\n",
    "from nba_api.stats.endpoints import leaguedashplayerptshot, leaguedashplayerstats, synergyplaytypes"
   ]
  },
  {
   "cell_type": "markdown",
   "id": "9ca1d85a",
   "metadata": {},
   "source": [
    "#### Get Possession DF"
   ]
  },
  {
   "cell_type": "code",
   "execution_count": 3,
   "id": "d5becdee",
   "metadata": {},
   "outputs": [],
   "source": [
    "season = '2023-24'\n",
    "\n",
    "poss_df = leaguedashplayerstats.LeagueDashPlayerStats(season=season, \\\n",
    "                                                  measure_type_detailed_defense='Advanced').get_data_frames()[0]\n",
    "\n",
    "\n",
    "\n",
    "poss_df = poss_df[['PLAYER_ID', 'PLAYER_NAME', 'POSS', 'GP', 'MIN']]\n",
    "\n",
    "poss_df = poss_df.groupby(['PLAYER_ID', 'PLAYER_NAME']).sum().reset_index()"
   ]
  },
  {
   "cell_type": "markdown",
   "id": "a798b206",
   "metadata": {},
   "source": [
    "#### Get Touch Time DF"
   ]
  },
  {
   "cell_type": "code",
   "execution_count": 4,
   "id": "0e96f8fe",
   "metadata": {},
   "outputs": [],
   "source": [
    "def get_touch_time_shots(touch_range):\n",
    "    df = leaguedashplayerptshot.LeagueDashPlayerPtShot(touch_time_range_nullable = touch_range).get_data_frames()[0]\n",
    "    \n",
    "    \n",
    "    df = df[['PLAYER_ID', 'PLAYER_LAST_TEAM_ID' , 'FGM', 'FGA', 'FG2M', 'FG2A', 'FG3M', 'FG3A']]\n",
    "    \n",
    "    shot_type = 'self_created'\n",
    "    if touch_range == \"Touch < 2 Seconds\":\n",
    "        shot_type = 'not_self_created'\n",
    "        \n",
    "    df['shot_type'] = shot_type\n",
    "    return df"
   ]
  },
  {
   "cell_type": "code",
   "execution_count": 5,
   "id": "6ae06a14",
   "metadata": {},
   "outputs": [],
   "source": [
    "touch_range_list = [\"Touch < 2 Seconds\", \"Touch 2-6 Seconds\",  \"Touch 6+ Seconds\"]"
   ]
  },
  {
   "cell_type": "code",
   "execution_count": 6,
   "id": "940e75fb",
   "metadata": {},
   "outputs": [
    {
     "name": "stdout",
     "output_type": "stream",
     "text": [
      "Touch < 2 Seconds\n",
      "Touch 2-6 Seconds\n",
      "Touch 6+ Seconds\n"
     ]
    }
   ],
   "source": [
    "dataframes = []\n",
    "\n",
    "# Loop through touch_range_list and call the function for each value\n",
    "for touch_value in touch_range_list:\n",
    "    print(touch_value)\n",
    "    df = get_touch_time_shots(touch_value)\n",
    "    dataframes.append(df)\n",
    "    time.sleep(3)\n",
    "    \n",
    "touch_df = pd.concat(dataframes, ignore_index=True)\n",
    "\n",
    "touch_df = touch_df.groupby(['PLAYER_ID', 'PLAYER_LAST_TEAM_ID', 'shot_type']).agg(\n",
    "    {**{col: 'first' for col in touch_df.columns if col not in ['PLAYER_ID', 'PLAYER_NAME', 'PLAYER_LAST_TEAM_ID', 'shot_type']},\n",
    "     **{col: 'sum' for col in touch_df.columns if col not in ['PLAYER_ID', 'PLAYER_NAME', 'PLAYER_LAST_TEAM_ID', 'shot_type']}\n",
    "    }\n",
    ").reset_index()\n",
    "\n",
    "touch_df['efg'] = (touch_df.FGM + touch_df.FG3M*0.5)/touch_df.FGA\n",
    "\n",
    "suffix_mapping = {'not_self_created': '_not_self_created', 'self_created': '_self_created'}\n",
    "\n",
    "touch_df = touch_df.pivot_table(index=['PLAYER_ID', 'PLAYER_LAST_TEAM_ID' ], columns='shot_type', \\\n",
    "                                values=['FGM', 'FGA', 'FG2M', 'FG2A', 'FG3M', 'FG3A', 'efg'], aggfunc='sum')\n",
    "\n",
    "# Flatten the MultiIndex columns\n",
    "touch_df.columns = [f'{col[0]}{suffix_mapping[col[1]]}' if col[1] in suffix_mapping else col[0] for col in touch_df.columns]\n",
    "\n",
    "touch_df = touch_df.reset_index()"
   ]
  },
  {
   "cell_type": "code",
   "execution_count": 7,
   "id": "def5b5e3",
   "metadata": {},
   "outputs": [
    {
     "data": {
      "text/html": [
       "<div>\n",
       "<style scoped>\n",
       "    .dataframe tbody tr th:only-of-type {\n",
       "        vertical-align: middle;\n",
       "    }\n",
       "\n",
       "    .dataframe tbody tr th {\n",
       "        vertical-align: top;\n",
       "    }\n",
       "\n",
       "    .dataframe thead th {\n",
       "        text-align: right;\n",
       "    }\n",
       "</style>\n",
       "<table border=\"1\" class=\"dataframe\">\n",
       "  <thead>\n",
       "    <tr style=\"text-align: right;\">\n",
       "      <th></th>\n",
       "      <th>PLAYER_ID</th>\n",
       "      <th>PLAYER_LAST_TEAM_ID</th>\n",
       "      <th>FG2A_not_self_created</th>\n",
       "      <th>FG2A_self_created</th>\n",
       "      <th>FG2M_not_self_created</th>\n",
       "      <th>FG2M_self_created</th>\n",
       "      <th>FG3A_not_self_created</th>\n",
       "      <th>FG3A_self_created</th>\n",
       "      <th>FG3M_not_self_created</th>\n",
       "      <th>FG3M_self_created</th>\n",
       "      <th>FGA_not_self_created</th>\n",
       "      <th>FGA_self_created</th>\n",
       "      <th>FGM_not_self_created</th>\n",
       "      <th>FGM_self_created</th>\n",
       "      <th>efg_not_self_created</th>\n",
       "      <th>efg_self_created</th>\n",
       "    </tr>\n",
       "  </thead>\n",
       "  <tbody>\n",
       "    <tr>\n",
       "      <th>480</th>\n",
       "      <td>1631218</td>\n",
       "      <td>1610612744</td>\n",
       "      <td>296.0</td>\n",
       "      <td>28.0</td>\n",
       "      <td>206.0</td>\n",
       "      <td>20.0</td>\n",
       "      <td>1.0</td>\n",
       "      <td>0.0</td>\n",
       "      <td>0.0</td>\n",
       "      <td>0.0</td>\n",
       "      <td>297.0</td>\n",
       "      <td>28.0</td>\n",
       "      <td>206.0</td>\n",
       "      <td>20.0</td>\n",
       "      <td>0.693603</td>\n",
       "      <td>0.714286</td>\n",
       "    </tr>\n",
       "  </tbody>\n",
       "</table>\n",
       "</div>"
      ],
      "text/plain": [
       "     PLAYER_ID  PLAYER_LAST_TEAM_ID  FG2A_not_self_created  FG2A_self_created  \\\n",
       "480    1631218           1610612744                  296.0               28.0   \n",
       "\n",
       "     FG2M_not_self_created  FG2M_self_created  FG3A_not_self_created  \\\n",
       "480                  206.0               20.0                    1.0   \n",
       "\n",
       "     FG3A_self_created  FG3M_not_self_created  FG3M_self_created  \\\n",
       "480                0.0                    0.0                0.0   \n",
       "\n",
       "     FGA_not_self_created  FGA_self_created  FGM_not_self_created  \\\n",
       "480                 297.0              28.0                 206.0   \n",
       "\n",
       "     FGM_self_created  efg_not_self_created  efg_self_created  \n",
       "480              20.0              0.693603          0.714286  "
      ]
     },
     "execution_count": 7,
     "metadata": {},
     "output_type": "execute_result"
    }
   ],
   "source": [
    "touch_df[touch_df.PLAYER_ID == 1631218]"
   ]
  },
  {
   "cell_type": "markdown",
   "id": "e63dc5ec",
   "metadata": {},
   "source": [
    "#### Get Synergy Data"
   ]
  },
  {
   "cell_type": "code",
   "execution_count": 8,
   "id": "d6719ac0",
   "metadata": {},
   "outputs": [],
   "source": [
    "def get_synergy_df(season, play_type):\n",
    "\n",
    "    synergy_df = synergyplaytypes.SynergyPlayTypes(season = season, play_type_nullable = play_type, per_mode_simple = 'Totals',\\\n",
    "                                      type_grouping_nullable = 'Offensive', player_or_team_abbreviation = 'P')\\\n",
    "                                .get_data_frames()[0]\n",
    "\n",
    "    synergy_df = synergy_df[['PLAYER_ID', 'PLAYER_NAME', 'PLAY_TYPE', 'POSS', 'PTS']]\n",
    "\n",
    "    synergy_df = synergy_df.groupby(['PLAYER_ID']).sum().reset_index()\n",
    "\n",
    "    synergy_df['PPP'] = synergy_df.PTS/synergy_df.POSS\n",
    "\n",
    "    for column in synergy_df.columns:\n",
    "        # Check if the column name is not PLAYER_ID\n",
    "        if column != 'PLAYER_ID':\n",
    "            # Add the suffix based on the play_type variable\n",
    "            new_column_name = column + \"_\" + play_type\n",
    "            # Rename the column\n",
    "            synergy_df.rename(columns={column: new_column_name}, inplace=True)\n",
    "\n",
    "    return synergy_df"
   ]
  },
  {
   "cell_type": "code",
   "execution_count": 9,
   "id": "2bb8df50",
   "metadata": {},
   "outputs": [
    {
     "name": "stdout",
     "output_type": "stream",
     "text": [
      "Cut\n"
     ]
    },
    {
     "name": "stderr",
     "output_type": "stream",
     "text": [
      "C:\\Users\\saurabh.rane\\AppData\\Local\\Temp\\ipykernel_30904\\933239181.py:9: FutureWarning: The default value of numeric_only in DataFrameGroupBy.sum is deprecated. In a future version, numeric_only will default to False. Either specify numeric_only or select only columns which should be valid for the function.\n",
      "  synergy_df = synergy_df.groupby(['PLAYER_ID']).sum().reset_index()\n"
     ]
    },
    {
     "name": "stdout",
     "output_type": "stream",
     "text": [
      "Handoff\n"
     ]
    },
    {
     "name": "stderr",
     "output_type": "stream",
     "text": [
      "C:\\Users\\saurabh.rane\\AppData\\Local\\Temp\\ipykernel_30904\\933239181.py:9: FutureWarning: The default value of numeric_only in DataFrameGroupBy.sum is deprecated. In a future version, numeric_only will default to False. Either specify numeric_only or select only columns which should be valid for the function.\n",
      "  synergy_df = synergy_df.groupby(['PLAYER_ID']).sum().reset_index()\n"
     ]
    },
    {
     "name": "stdout",
     "output_type": "stream",
     "text": [
      "Isolation\n"
     ]
    },
    {
     "name": "stderr",
     "output_type": "stream",
     "text": [
      "C:\\Users\\saurabh.rane\\AppData\\Local\\Temp\\ipykernel_30904\\933239181.py:9: FutureWarning: The default value of numeric_only in DataFrameGroupBy.sum is deprecated. In a future version, numeric_only will default to False. Either specify numeric_only or select only columns which should be valid for the function.\n",
      "  synergy_df = synergy_df.groupby(['PLAYER_ID']).sum().reset_index()\n"
     ]
    },
    {
     "name": "stdout",
     "output_type": "stream",
     "text": [
      "OffScreen\n"
     ]
    },
    {
     "name": "stderr",
     "output_type": "stream",
     "text": [
      "C:\\Users\\saurabh.rane\\AppData\\Local\\Temp\\ipykernel_30904\\933239181.py:9: FutureWarning: The default value of numeric_only in DataFrameGroupBy.sum is deprecated. In a future version, numeric_only will default to False. Either specify numeric_only or select only columns which should be valid for the function.\n",
      "  synergy_df = synergy_df.groupby(['PLAYER_ID']).sum().reset_index()\n"
     ]
    },
    {
     "name": "stdout",
     "output_type": "stream",
     "text": [
      "Postup\n"
     ]
    },
    {
     "name": "stderr",
     "output_type": "stream",
     "text": [
      "C:\\Users\\saurabh.rane\\AppData\\Local\\Temp\\ipykernel_30904\\933239181.py:9: FutureWarning: The default value of numeric_only in DataFrameGroupBy.sum is deprecated. In a future version, numeric_only will default to False. Either specify numeric_only or select only columns which should be valid for the function.\n",
      "  synergy_df = synergy_df.groupby(['PLAYER_ID']).sum().reset_index()\n"
     ]
    },
    {
     "name": "stdout",
     "output_type": "stream",
     "text": [
      "PRBallHandler\n"
     ]
    },
    {
     "name": "stderr",
     "output_type": "stream",
     "text": [
      "C:\\Users\\saurabh.rane\\AppData\\Local\\Temp\\ipykernel_30904\\933239181.py:9: FutureWarning: The default value of numeric_only in DataFrameGroupBy.sum is deprecated. In a future version, numeric_only will default to False. Either specify numeric_only or select only columns which should be valid for the function.\n",
      "  synergy_df = synergy_df.groupby(['PLAYER_ID']).sum().reset_index()\n"
     ]
    },
    {
     "name": "stdout",
     "output_type": "stream",
     "text": [
      "PRRollman\n"
     ]
    },
    {
     "name": "stderr",
     "output_type": "stream",
     "text": [
      "C:\\Users\\saurabh.rane\\AppData\\Local\\Temp\\ipykernel_30904\\933239181.py:9: FutureWarning: The default value of numeric_only in DataFrameGroupBy.sum is deprecated. In a future version, numeric_only will default to False. Either specify numeric_only or select only columns which should be valid for the function.\n",
      "  synergy_df = synergy_df.groupby(['PLAYER_ID']).sum().reset_index()\n"
     ]
    },
    {
     "name": "stdout",
     "output_type": "stream",
     "text": [
      "Spotup\n"
     ]
    },
    {
     "name": "stderr",
     "output_type": "stream",
     "text": [
      "C:\\Users\\saurabh.rane\\AppData\\Local\\Temp\\ipykernel_30904\\933239181.py:9: FutureWarning: The default value of numeric_only in DataFrameGroupBy.sum is deprecated. In a future version, numeric_only will default to False. Either specify numeric_only or select only columns which should be valid for the function.\n",
      "  synergy_df = synergy_df.groupby(['PLAYER_ID']).sum().reset_index()\n"
     ]
    },
    {
     "name": "stdout",
     "output_type": "stream",
     "text": [
      "Transition\n"
     ]
    },
    {
     "name": "stderr",
     "output_type": "stream",
     "text": [
      "C:\\Users\\saurabh.rane\\AppData\\Local\\Temp\\ipykernel_30904\\933239181.py:9: FutureWarning: The default value of numeric_only in DataFrameGroupBy.sum is deprecated. In a future version, numeric_only will default to False. Either specify numeric_only or select only columns which should be valid for the function.\n",
      "  synergy_df = synergy_df.groupby(['PLAYER_ID']).sum().reset_index()\n"
     ]
    }
   ],
   "source": [
    "synergy_df = poss_df[['PLAYER_ID']]\n",
    "\n",
    "play_types = ['Cut', 'Handoff', 'Isolation', 'OffScreen', 'Postup', 'PRBallHandler',\\\n",
    "              'PRRollman', 'Spotup', 'Transition']\n",
    "\n",
    "for play_type in play_types:\n",
    "    print(play_type)\n",
    "    synergy_df = pd.merge(synergy_df, get_synergy_df(season, play_type),  how = 'left')\n",
    "    time.sleep(3)\n",
    "    "
   ]
  },
  {
   "cell_type": "markdown",
   "id": "bd116a1a",
   "metadata": {},
   "source": [
    "#### Data Cleanse"
   ]
  },
  {
   "cell_type": "code",
   "execution_count": 10,
   "id": "abd10e08",
   "metadata": {},
   "outputs": [],
   "source": [
    "off_ball_df = pd.merge(poss_df, touch_df, on = 'PLAYER_ID')\n",
    "\n",
    "off_ball_df = pd.merge(off_ball_df, synergy_df, on = 'PLAYER_ID')\n",
    "\n"
   ]
  },
  {
   "cell_type": "code",
   "execution_count": 11,
   "id": "ad10cd42",
   "metadata": {},
   "outputs": [],
   "source": [
    "\n",
    "for column in off_ball_df.columns:\n",
    "    if (column.startswith(\"FG\") or column.startswith(\"PTS\") or column.startswith(\"POSS_\")):\n",
    "        off_ball_df[column] = (off_ball_df[column] / off_ball_df['POSS']) * 75\n",
    "        \n",
    "off_ball_df = off_ball_df[off_ball_df.POSS > 1000]\n",
    "\n",
    "off_ball_df['headshot_url'] = \"https://cdn.nba.com/headshots/nba/latest/1040x760/\" + \\\n",
    "            off_ball_df.PLAYER_ID.astype(str) + \\\n",
    "                    \".png\""
   ]
  },
  {
   "cell_type": "code",
   "execution_count": 16,
   "id": "5a10be9c",
   "metadata": {},
   "outputs": [
    {
     "data": {
      "text/html": [
       "<div>\n",
       "<style scoped>\n",
       "    .dataframe tbody tr th:only-of-type {\n",
       "        vertical-align: middle;\n",
       "    }\n",
       "\n",
       "    .dataframe tbody tr th {\n",
       "        vertical-align: top;\n",
       "    }\n",
       "\n",
       "    .dataframe thead th {\n",
       "        text-align: right;\n",
       "    }\n",
       "</style>\n",
       "<table border=\"1\" class=\"dataframe\">\n",
       "  <thead>\n",
       "    <tr style=\"text-align: right;\">\n",
       "      <th></th>\n",
       "      <th>PLAYER_ID</th>\n",
       "      <th>PLAYER_NAME</th>\n",
       "      <th>POSS</th>\n",
       "      <th>GP</th>\n",
       "      <th>MIN</th>\n",
       "      <th>PLAYER_LAST_TEAM_ID</th>\n",
       "      <th>FG2A_not_self_created</th>\n",
       "      <th>FG2A_self_created</th>\n",
       "      <th>FG2M_not_self_created</th>\n",
       "      <th>FG2M_self_created</th>\n",
       "      <th>FG3A_not_self_created</th>\n",
       "      <th>FG3A_self_created</th>\n",
       "      <th>FG3M_not_self_created</th>\n",
       "      <th>FG3M_self_created</th>\n",
       "      <th>FGA_not_self_created</th>\n",
       "      <th>FGA_self_created</th>\n",
       "      <th>FGM_not_self_created</th>\n",
       "      <th>FGM_self_created</th>\n",
       "      <th>efg_not_self_created</th>\n",
       "      <th>efg_self_created</th>\n",
       "      <th>POSS_Cut</th>\n",
       "      <th>PTS_Cut</th>\n",
       "      <th>PPP_Cut</th>\n",
       "      <th>POSS_Handoff</th>\n",
       "      <th>PTS_Handoff</th>\n",
       "      <th>PPP_Handoff</th>\n",
       "      <th>POSS_Isolation</th>\n",
       "      <th>PTS_Isolation</th>\n",
       "      <th>PPP_Isolation</th>\n",
       "      <th>POSS_OffScreen</th>\n",
       "      <th>PTS_OffScreen</th>\n",
       "      <th>PPP_OffScreen</th>\n",
       "      <th>POSS_Postup</th>\n",
       "      <th>PTS_Postup</th>\n",
       "      <th>PPP_Postup</th>\n",
       "      <th>POSS_PRBallHandler</th>\n",
       "      <th>PTS_PRBallHandler</th>\n",
       "      <th>PPP_PRBallHandler</th>\n",
       "      <th>POSS_PRRollman</th>\n",
       "      <th>PTS_PRRollman</th>\n",
       "      <th>PPP_PRRollman</th>\n",
       "      <th>POSS_Spotup</th>\n",
       "      <th>PTS_Spotup</th>\n",
       "      <th>PPP_Spotup</th>\n",
       "      <th>POSS_Transition</th>\n",
       "      <th>PTS_Transition</th>\n",
       "      <th>PPP_Transition</th>\n",
       "      <th>headshot_url</th>\n",
       "      <th>primary_color</th>\n",
       "    </tr>\n",
       "  </thead>\n",
       "  <tbody>\n",
       "    <tr>\n",
       "      <th>324</th>\n",
       "      <td>1630590</td>\n",
       "      <td>Scotty Pippen Jr.</td>\n",
       "      <td>1103</td>\n",
       "      <td>21</td>\n",
       "      <td>25.1</td>\n",
       "      <td>1610612763</td>\n",
       "      <td>0.883953</td>\n",
       "      <td>8.023572</td>\n",
       "      <td>0.611967</td>\n",
       "      <td>4.147779</td>\n",
       "      <td>3.671804</td>\n",
       "      <td>1.223935</td>\n",
       "      <td>1.563917</td>\n",
       "      <td>0.475975</td>\n",
       "      <td>4.555757</td>\n",
       "      <td>9.247507</td>\n",
       "      <td>2.175884</td>\n",
       "      <td>4.623753</td>\n",
       "      <td>0.649254</td>\n",
       "      <td>0.525735</td>\n",
       "      <td>NaN</td>\n",
       "      <td>NaN</td>\n",
       "      <td>NaN</td>\n",
       "      <td>1.223935</td>\n",
       "      <td>1.087942</td>\n",
       "      <td>0.888889</td>\n",
       "      <td>0.74796</td>\n",
       "      <td>0.407978</td>\n",
       "      <td>0.545455</td>\n",
       "      <td>NaN</td>\n",
       "      <td>NaN</td>\n",
       "      <td>NaN</td>\n",
       "      <td>NaN</td>\n",
       "      <td>NaN</td>\n",
       "      <td>NaN</td>\n",
       "      <td>5.711695</td>\n",
       "      <td>4.963735</td>\n",
       "      <td>0.869048</td>\n",
       "      <td>NaN</td>\n",
       "      <td>NaN</td>\n",
       "      <td>NaN</td>\n",
       "      <td>5.031732</td>\n",
       "      <td>5.575703</td>\n",
       "      <td>1.108108</td>\n",
       "      <td>4.419764</td>\n",
       "      <td>5.099728</td>\n",
       "      <td>1.153846</td>\n",
       "      <td>https://cdn.nba.com/headshots/nba/latest/1040x...</td>\n",
       "      <td>#5D76A9</td>\n",
       "    </tr>\n",
       "  </tbody>\n",
       "</table>\n",
       "</div>"
      ],
      "text/plain": [
       "     PLAYER_ID        PLAYER_NAME  POSS  GP   MIN  PLAYER_LAST_TEAM_ID  \\\n",
       "324    1630590  Scotty Pippen Jr.  1103  21  25.1           1610612763   \n",
       "\n",
       "     FG2A_not_self_created  FG2A_self_created  FG2M_not_self_created  \\\n",
       "324               0.883953           8.023572               0.611967   \n",
       "\n",
       "     FG2M_self_created  FG3A_not_self_created  FG3A_self_created  \\\n",
       "324           4.147779               3.671804           1.223935   \n",
       "\n",
       "     FG3M_not_self_created  FG3M_self_created  FGA_not_self_created  \\\n",
       "324               1.563917           0.475975              4.555757   \n",
       "\n",
       "     FGA_self_created  FGM_not_self_created  FGM_self_created  \\\n",
       "324          9.247507              2.175884          4.623753   \n",
       "\n",
       "     efg_not_self_created  efg_self_created  POSS_Cut  PTS_Cut  PPP_Cut  \\\n",
       "324              0.649254          0.525735       NaN      NaN      NaN   \n",
       "\n",
       "     POSS_Handoff  PTS_Handoff  PPP_Handoff  POSS_Isolation  PTS_Isolation  \\\n",
       "324      1.223935     1.087942     0.888889         0.74796       0.407978   \n",
       "\n",
       "     PPP_Isolation  POSS_OffScreen  PTS_OffScreen  PPP_OffScreen  POSS_Postup  \\\n",
       "324       0.545455             NaN            NaN            NaN          NaN   \n",
       "\n",
       "     PTS_Postup  PPP_Postup  POSS_PRBallHandler  PTS_PRBallHandler  \\\n",
       "324         NaN         NaN            5.711695           4.963735   \n",
       "\n",
       "     PPP_PRBallHandler  POSS_PRRollman  PTS_PRRollman  PPP_PRRollman  \\\n",
       "324           0.869048             NaN            NaN            NaN   \n",
       "\n",
       "     POSS_Spotup  PTS_Spotup  PPP_Spotup  POSS_Transition  PTS_Transition  \\\n",
       "324     5.031732    5.575703    1.108108         4.419764        5.099728   \n",
       "\n",
       "     PPP_Transition                                       headshot_url  \\\n",
       "324        1.153846  https://cdn.nba.com/headshots/nba/latest/1040x...   \n",
       "\n",
       "    primary_color  \n",
       "324       #5D76A9  "
      ]
     },
     "execution_count": 16,
     "metadata": {},
     "output_type": "execute_result"
    }
   ],
   "source": [
    "off_ball_df[off_ball_df.PLAYER_ID == 1630590]"
   ]
  },
  {
   "cell_type": "code",
   "execution_count": 13,
   "id": "2c7afb16",
   "metadata": {},
   "outputs": [],
   "source": [
    "team_colors = pd.read_csv('C:/Users/saurabh.rane/OneDrive - Slalom/NBA/data_update_scripts/Data/teamColors.csv')\n",
    "team_colors.rename(columns={'TEAM_ID': 'PLAYER_LAST_TEAM_ID', 'Primary Color': 'primary_color'}, inplace=True)\n",
    "team_colors = team_colors[['PLAYER_LAST_TEAM_ID', 'primary_color']]"
   ]
  },
  {
   "cell_type": "code",
   "execution_count": 14,
   "id": "9234db57",
   "metadata": {},
   "outputs": [],
   "source": [
    "off_ball_df = pd.merge(off_ball_df, team_colors, on = 'PLAYER_LAST_TEAM_ID')"
   ]
  },
  {
   "cell_type": "code",
   "execution_count": 15,
   "id": "f85b975a",
   "metadata": {},
   "outputs": [],
   "source": [
    "off_ball_df.to_csv('observable_off_ball.csv')"
   ]
  },
  {
   "cell_type": "code",
   "execution_count": 157,
   "id": "0558999e",
   "metadata": {},
   "outputs": [
    {
     "ename": "AttributeError",
     "evalue": "'DataFrame' object has no attribute 'shot_type'",
     "output_type": "error",
     "traceback": [
      "\u001b[1;31m---------------------------------------------------------------------------\u001b[0m",
      "\u001b[1;31mAttributeError\u001b[0m                            Traceback (most recent call last)",
      "\u001b[1;32m~\\AppData\\Local\\Temp\\ipykernel_8448\\3004680244.py\u001b[0m in \u001b[0;36m?\u001b[1;34m()\u001b[0m\n\u001b[1;32m----> 1\u001b[1;33m \u001b[0moff_ball_df\u001b[0m\u001b[1;33m[\u001b[0m\u001b[0moff_ball_df\u001b[0m\u001b[1;33m.\u001b[0m\u001b[0mshot_type\u001b[0m \u001b[1;33m==\u001b[0m \u001b[1;34m'self_created'\u001b[0m\u001b[1;33m]\u001b[0m\u001b[1;33m.\u001b[0m\u001b[0msort_values\u001b[0m\u001b[1;33m(\u001b[0m\u001b[0mby\u001b[0m \u001b[1;33m=\u001b[0m \u001b[1;34m'FGA'\u001b[0m\u001b[1;33m,\u001b[0m \u001b[0mascending\u001b[0m \u001b[1;33m=\u001b[0m \u001b[1;32mFalse\u001b[0m\u001b[1;33m)\u001b[0m\u001b[1;33m.\u001b[0m\u001b[0mhead\u001b[0m\u001b[1;33m(\u001b[0m\u001b[1;36m25\u001b[0m\u001b[1;33m)\u001b[0m\u001b[1;33m\u001b[0m\u001b[1;33m\u001b[0m\u001b[0m\n\u001b[0m",
      "\u001b[1;32m~\\AppData\\Roaming\\Python\\Python310\\site-packages\\pandas\\core\\generic.py\u001b[0m in \u001b[0;36m?\u001b[1;34m(self, name)\u001b[0m\n\u001b[0;32m   5898\u001b[0m             \u001b[1;32mand\u001b[0m \u001b[0mname\u001b[0m \u001b[1;32mnot\u001b[0m \u001b[1;32min\u001b[0m \u001b[0mself\u001b[0m\u001b[1;33m.\u001b[0m\u001b[0m_accessors\u001b[0m\u001b[1;33m\u001b[0m\u001b[1;33m\u001b[0m\u001b[0m\n\u001b[0;32m   5899\u001b[0m             \u001b[1;32mand\u001b[0m \u001b[0mself\u001b[0m\u001b[1;33m.\u001b[0m\u001b[0m_info_axis\u001b[0m\u001b[1;33m.\u001b[0m\u001b[0m_can_hold_identifiers_and_holds_name\u001b[0m\u001b[1;33m(\u001b[0m\u001b[0mname\u001b[0m\u001b[1;33m)\u001b[0m\u001b[1;33m\u001b[0m\u001b[1;33m\u001b[0m\u001b[0m\n\u001b[0;32m   5900\u001b[0m         ):\n\u001b[0;32m   5901\u001b[0m             \u001b[1;32mreturn\u001b[0m \u001b[0mself\u001b[0m\u001b[1;33m[\u001b[0m\u001b[0mname\u001b[0m\u001b[1;33m]\u001b[0m\u001b[1;33m\u001b[0m\u001b[1;33m\u001b[0m\u001b[0m\n\u001b[1;32m-> 5902\u001b[1;33m         \u001b[1;32mreturn\u001b[0m \u001b[0mobject\u001b[0m\u001b[1;33m.\u001b[0m\u001b[0m__getattribute__\u001b[0m\u001b[1;33m(\u001b[0m\u001b[0mself\u001b[0m\u001b[1;33m,\u001b[0m \u001b[0mname\u001b[0m\u001b[1;33m)\u001b[0m\u001b[1;33m\u001b[0m\u001b[1;33m\u001b[0m\u001b[0m\n\u001b[0m",
      "\u001b[1;31mAttributeError\u001b[0m: 'DataFrame' object has no attribute 'shot_type'"
     ]
    }
   ],
   "source": [
    "off_ball_df[off_ball_df.shot_type == 'self_created'].sort_values(by = 'FGA', ascending = False).head(25)"
   ]
  },
  {
   "cell_type": "code",
   "execution_count": null,
   "id": "a3efebef",
   "metadata": {},
   "outputs": [],
   "source": [
    "off_ball_df[off_ball_df.shot_type == 'not_self_created'].sort_values(by = 'FGA', ascending = False).head(25)"
   ]
  },
  {
   "cell_type": "code",
   "execution_count": null,
   "id": "4e8c8a66",
   "metadata": {},
   "outputs": [],
   "source": [
    "pd.read_csv('https://raw.githubusercontent.com/JaseZiv/worldfootballR_data/master/raw-data/all_leages_and_cups/all_competitions.csv')"
   ]
  },
  {
   "cell_type": "code",
   "execution_count": null,
   "id": "63cd6d7c",
   "metadata": {},
   "outputs": [],
   "source": []
  },
  {
   "cell_type": "code",
   "execution_count": null,
   "id": "c905770e",
   "metadata": {},
   "outputs": [],
   "source": []
  }
 ],
 "metadata": {
  "kernelspec": {
   "display_name": "Python 3 (ipykernel)",
   "language": "python",
   "name": "python3"
  },
  "language_info": {
   "codemirror_mode": {
    "name": "ipython",
    "version": 3
   },
   "file_extension": ".py",
   "mimetype": "text/x-python",
   "name": "python",
   "nbconvert_exporter": "python",
   "pygments_lexer": "ipython3",
   "version": "3.10.2"
  }
 },
 "nbformat": 4,
 "nbformat_minor": 5
}
